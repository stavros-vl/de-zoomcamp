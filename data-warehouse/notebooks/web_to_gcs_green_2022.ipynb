{
 "cells": [
  {
   "cell_type": "markdown",
   "id": "5394c83a",
   "metadata": {},
   "source": [
    "### Notebook that explores how to read parquet files and upload to GCS bucket\n",
    "\n",
    "The goal is to read from the page https://www.nyc.gov/site/tlc/about/tlc-trip-record-data.page the data for all 2022 and upload every month in a bucket"
   ]
  },
  {
   "cell_type": "code",
   "execution_count": 7,
   "id": "6c33038f",
   "metadata": {},
   "outputs": [],
   "source": [
    "import io\n",
    "import os\n",
    "import requests\n",
    "import pandas as pd\n",
    "from google.cloud import storage"
   ]
  },
  {
   "cell_type": "code",
   "execution_count": 8,
   "id": "37c68d3f",
   "metadata": {},
   "outputs": [],
   "source": [
    "init_url = \"https://d37ci6vzurychx.cloudfront.net/trip-data/\"\n",
    "BUCKET = os.environ.get(\"GCP_GCS_BUCKET\", \"terraform-stavros-bucket\")"
   ]
  },
  {
   "cell_type": "code",
   "execution_count": 9,
   "id": "1df1314c",
   "metadata": {},
   "outputs": [],
   "source": [
    "def upload_to_gcs(bucket, object_name, local_file):\n",
    "    \"\"\"\n",
    "    Ref: https://cloud.google.com/storage/docs/uploading-objects#storage-upload-object-python\n",
    "    \"\"\"\n",
    "    # # WORKAROUND to prevent timeout for files > 6 MB on 800 kbps upload speed.\n",
    "    # # (Ref: https://github.com/googleapis/python-storage/issues/74)\n",
    "    # storage.blob._MAX_MULTIPART_SIZE = 5 * 1024 * 1024  # 5 MB\n",
    "    # storage.blob._DEFAULT_CHUNKSIZE = 5 * 1024 * 1024  # 5 MB\n",
    "\n",
    "    client = storage.Client()\n",
    "    bucket = client.bucket(bucket)\n",
    "    blob = bucket.blob(object_name)\n",
    "    blob.upload_from_filename(local_file)"
   ]
  },
  {
   "cell_type": "code",
   "execution_count": 10,
   "id": "31081f91",
   "metadata": {},
   "outputs": [],
   "source": [
    "def web_to_gcs(year, service):\n",
    "    for i in range(12):\n",
    "        \n",
    "        # sets the month part of the file_name string\n",
    "        month = '0'+str(i+1)\n",
    "        month = month[-2:]\n",
    "\n",
    "        # csv file_name\n",
    "        file_name = f\"{service}_tripdata_{year}-{month}.parquet\"\n",
    "\n",
    "        # download it using requests via a pandas df\n",
    "        request_url = f\"{init_url}{service}/{file_name}\"\n",
    "        r = requests.get(request_url)\n",
    "        open(file_name, 'wb').write(r.content)\n",
    "        print(f\"Local: {file_name}\")\n",
    "\n",
    "        # upload it to gcs \n",
    "        upload_to_gcs(BUCKET, f\"{service}/{file_name}\", file_name)\n",
    "        print(f\"GCS: {service}/{file_name}\")\n"
   ]
  },
  {
   "cell_type": "code",
   "execution_count": 11,
   "id": "179c264c",
   "metadata": {},
   "outputs": [
    {
     "name": "stdout",
     "output_type": "stream",
     "text": [
      "Local: green_tripdata_2022-01.parquet\n",
      "GCS: green/green_tripdata_2022-01.parquet\n",
      "Local: green_tripdata_2022-02.parquet\n",
      "GCS: green/green_tripdata_2022-02.parquet\n",
      "Local: green_tripdata_2022-03.parquet\n",
      "GCS: green/green_tripdata_2022-03.parquet\n",
      "Local: green_tripdata_2022-04.parquet\n",
      "GCS: green/green_tripdata_2022-04.parquet\n",
      "Local: green_tripdata_2022-05.parquet\n",
      "GCS: green/green_tripdata_2022-05.parquet\n",
      "Local: green_tripdata_2022-06.parquet\n",
      "GCS: green/green_tripdata_2022-06.parquet\n",
      "Local: green_tripdata_2022-07.parquet\n",
      "GCS: green/green_tripdata_2022-07.parquet\n",
      "Local: green_tripdata_2022-08.parquet\n",
      "GCS: green/green_tripdata_2022-08.parquet\n",
      "Local: green_tripdata_2022-09.parquet\n",
      "GCS: green/green_tripdata_2022-09.parquet\n",
      "Local: green_tripdata_2022-10.parquet\n",
      "GCS: green/green_tripdata_2022-10.parquet\n",
      "Local: green_tripdata_2022-11.parquet\n",
      "GCS: green/green_tripdata_2022-11.parquet\n",
      "Local: green_tripdata_2022-12.parquet\n",
      "GCS: green/green_tripdata_2022-12.parquet\n"
     ]
    }
   ],
   "source": [
    "web_to_gcs('2022', 'green')"
   ]
  }
 ],
 "metadata": {
  "kernelspec": {
   "display_name": "Python 3 (ipykernel)",
   "language": "python",
   "name": "python3"
  },
  "language_info": {
   "codemirror_mode": {
    "name": "ipython",
    "version": 3
   },
   "file_extension": ".py",
   "mimetype": "text/x-python",
   "name": "python",
   "nbconvert_exporter": "python",
   "pygments_lexer": "ipython3",
   "version": "3.11.5"
  }
 },
 "nbformat": 4,
 "nbformat_minor": 5
}
