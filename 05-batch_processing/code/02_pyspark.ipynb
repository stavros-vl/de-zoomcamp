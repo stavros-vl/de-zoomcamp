{
 "cells": [
  {
   "cell_type": "markdown",
   "id": "db14aa2c",
   "metadata": {},
   "source": [
    "# 1. <a name=\"first-look\"></a> First Look at Spark/PySpark\n",
    "\n",
    "In the first part of this notebook we aim to explore the following using [Apache Spark](https://spark.apache.org/):\n",
    "- Reading CSV files\n",
    "- Spark partitions - See: [Spark Partitioning Understanding](https://sparkbyexamples.com/spark/spark-partitioning-understanding/)\n",
    "- Saving data to Parquet for local experiments\n",
    "- Spark Master UI\n",
    "\n",
    "# 2. Spark DataFrames\n",
    "\n",
    "In the second part we continue the Spark/PySpark exploration with the below topics:\n",
    "- Actions vs transformations\n",
    "- Functions and UDFs"
   ]
  },
  {
   "cell_type": "markdown",
   "id": "63928350",
   "metadata": {},
   "source": [
    "## Links:\n",
    "- [Jump to First Look](#first-look) \n",
    "- [Jump to Spark Dataframes](#spark-dataframes)"
   ]
  },
  {
   "cell_type": "code",
   "execution_count": 1,
   "id": "f92287ed",
   "metadata": {},
   "outputs": [],
   "source": [
    "import findspark\n",
    "import pandas as pd"
   ]
  },
  {
   "cell_type": "code",
   "execution_count": 2,
   "id": "47777805",
   "metadata": {},
   "outputs": [],
   "source": [
    "findspark.init()"
   ]
  },
  {
   "cell_type": "code",
   "execution_count": 3,
   "id": "baab6c71",
   "metadata": {},
   "outputs": [],
   "source": [
    "import pyspark\n",
    "from pyspark.sql import SparkSession"
   ]
  },
  {
   "cell_type": "code",
   "execution_count": 4,
   "id": "367d83e0",
   "metadata": {},
   "outputs": [
    {
     "name": "stderr",
     "output_type": "stream",
     "text": [
      "Setting default log level to \"WARN\".\n",
      "To adjust logging level use sc.setLogLevel(newLevel). For SparkR, use setLogLevel(newLevel).\n",
      "24/03/10 16:36:19 WARN NativeCodeLoader: Unable to load native-hadoop library for your platform... using builtin-java classes where applicable\n"
     ]
    }
   ],
   "source": [
    "spark = SparkSession.builder \\\n",
    "    .master(\"local[*]\") \\\n",
    "    .appName('test') \\\n",
    "    .getOrCreate()"
   ]
  },
  {
   "cell_type": "markdown",
   "id": "be509e6d",
   "metadata": {},
   "source": [
    "### *Note:*\n",
    "*Comment out the next two cells if they were already executed and the files created.*\n"
   ]
  },
  {
   "cell_type": "code",
   "execution_count": 5,
   "id": "a46b4bb0",
   "metadata": {},
   "outputs": [],
   "source": [
    "## Download data\n",
    "!wget https://github.com/DataTalksClub/nyc-tlc-data/releases/download/fhvhv/fhvhv_tripdata_2021-01.csv.gz"
   ]
  },
  {
   "cell_type": "code",
   "execution_count": 6,
   "id": "f2113901",
   "metadata": {},
   "outputs": [],
   "source": [
    "## Unzip\n",
    "!gunzip fhvhv_tripdata_2021-01.csv.gz"
   ]
  },
  {
   "cell_type": "code",
   "execution_count": 7,
   "id": "5a79f817",
   "metadata": {},
   "outputs": [
    {
     "name": "stdout",
     "output_type": "stream",
     "text": [
      "11908469 fhvhv_tripdata_2021-01.csv\r\n"
     ]
    }
   ],
   "source": [
    "# Check number of rows\n",
    "!wc -l fhvhv_tripdata_2021-01.csv"
   ]
  },
  {
   "cell_type": "code",
   "execution_count": 8,
   "id": "309ff38c",
   "metadata": {},
   "outputs": [],
   "source": [
    "# Read as spark\n",
    "df = spark.read \\\n",
    "     .option(\"header\", \"true\") \\\n",
    "     .csv(\"fhvhv_tripdata_2021-01.csv\")"
   ]
  },
  {
   "cell_type": "code",
   "execution_count": 9,
   "id": "1fe22fdc",
   "metadata": {},
   "outputs": [
    {
     "data": {
      "text/plain": [
       "[Row(hvfhs_license_num='HV0003', dispatching_base_num='B02682', pickup_datetime='2021-01-01 00:33:44', dropoff_datetime='2021-01-01 00:49:07', PULocationID='230', DOLocationID='166', SR_Flag=None),\n",
       " Row(hvfhs_license_num='HV0003', dispatching_base_num='B02682', pickup_datetime='2021-01-01 00:55:19', dropoff_datetime='2021-01-01 01:18:21', PULocationID='152', DOLocationID='167', SR_Flag=None),\n",
       " Row(hvfhs_license_num='HV0003', dispatching_base_num='B02764', pickup_datetime='2021-01-01 00:23:56', dropoff_datetime='2021-01-01 00:38:05', PULocationID='233', DOLocationID='142', SR_Flag=None),\n",
       " Row(hvfhs_license_num='HV0003', dispatching_base_num='B02764', pickup_datetime='2021-01-01 00:42:51', dropoff_datetime='2021-01-01 00:45:50', PULocationID='142', DOLocationID='143', SR_Flag=None),\n",
       " Row(hvfhs_license_num='HV0003', dispatching_base_num='B02764', pickup_datetime='2021-01-01 00:48:14', dropoff_datetime='2021-01-01 01:08:42', PULocationID='143', DOLocationID='78', SR_Flag=None)]"
      ]
     },
     "execution_count": 9,
     "metadata": {},
     "output_type": "execute_result"
    }
   ],
   "source": [
    "df.head(5)"
   ]
  },
  {
   "cell_type": "code",
   "execution_count": 10,
   "id": "215a52dd",
   "metadata": {},
   "outputs": [
    {
     "data": {
      "text/plain": [
       "StructType([StructField('hvfhs_license_num', StringType(), True), StructField('dispatching_base_num', StringType(), True), StructField('pickup_datetime', StringType(), True), StructField('dropoff_datetime', StringType(), True), StructField('PULocationID', StringType(), True), StructField('DOLocationID', StringType(), True), StructField('SR_Flag', StringType(), True)])"
      ]
     },
     "execution_count": 10,
     "metadata": {},
     "output_type": "execute_result"
    }
   ],
   "source": [
    "df.schema"
   ]
  },
  {
   "cell_type": "code",
   "execution_count": 11,
   "id": "3f4d28c8",
   "metadata": {},
   "outputs": [],
   "source": [
    "# Get first 1000 rows of original data and save to CSV. To be used for illustration purposes.\n",
    "!head -n 1001 fhvhv_tripdata_2021-01.csv > head.csv"
   ]
  },
  {
   "cell_type": "code",
   "execution_count": 12,
   "id": "c5d77109",
   "metadata": {},
   "outputs": [],
   "source": [
    "# Read CSV to pandas in order to see what Pandas attemps to do with the columns data types.\n",
    "df_pandas = pd.read_csv(\"head.csv\")"
   ]
  },
  {
   "cell_type": "code",
   "execution_count": 13,
   "id": "a46d322b",
   "metadata": {},
   "outputs": [
    {
     "data": {
      "text/plain": [
       "hvfhs_license_num        object\n",
       "dispatching_base_num     object\n",
       "pickup_datetime          object\n",
       "dropoff_datetime         object\n",
       "PULocationID              int64\n",
       "DOLocationID              int64\n",
       "SR_Flag                 float64\n",
       "dtype: object"
      ]
     },
     "execution_count": 13,
     "metadata": {},
     "output_type": "execute_result"
    }
   ],
   "source": [
    "df_pandas.dtypes"
   ]
  },
  {
   "cell_type": "markdown",
   "id": "7e6c8785",
   "metadata": {},
   "source": [
    "## Create Spark dataframe from Pandas dataframe"
   ]
  },
  {
   "cell_type": "code",
   "execution_count": 15,
   "id": "68baf46d",
   "metadata": {},
   "outputs": [
    {
     "data": {
      "text/plain": [
       "StructType([StructField('hvfhs_license_num', StringType(), True), StructField('dispatching_base_num', StringType(), True), StructField('pickup_datetime', StringType(), True), StructField('dropoff_datetime', StringType(), True), StructField('PULocationID', LongType(), True), StructField('DOLocationID', LongType(), True), StructField('SR_Flag', DoubleType(), True)])"
      ]
     },
     "execution_count": 15,
     "metadata": {},
     "output_type": "execute_result"
    }
   ],
   "source": [
    "# Create Spark dataframe from Pandas dataframe\n",
    "pd.DataFrame.iteritems = pd.DataFrame.items\n",
    "spark.createDataFrame(df_pandas).schema"
   ]
  },
  {
   "cell_type": "markdown",
   "id": "ca8d0ae2",
   "metadata": {},
   "source": [
    "### We are going to enforce a schema in Spark\n",
    "To do that we are going to use the `pyspark.sql` method from Pyspark library."
   ]
  },
  {
   "cell_type": "code",
   "execution_count": 16,
   "id": "1625c898",
   "metadata": {},
   "outputs": [],
   "source": [
    "from pyspark.sql import types"
   ]
  },
  {
   "cell_type": "code",
   "execution_count": 17,
   "id": "696b7e77",
   "metadata": {},
   "outputs": [],
   "source": [
    "schema = types.StructType([\n",
    "    types.StructField('hvfhs_license_num', types.StringType(), True),\n",
    "    types.StructField('dispatching_base_num', types.StringType(), True),\n",
    "    types.StructField('pickup_datetime', types.TimestampType(), True),\n",
    "    types.StructField('dropoff_datetime', types.TimestampType(), True),\n",
    "    types.StructField('PULocationID', types.IntegerType(), True),\n",
    "    types.StructField('DOLocationID', types.IntegerType(), True),\n",
    "    types.StructField('SR_Flag', types.StringType(), True)\n",
    "])"
   ]
  },
  {
   "cell_type": "code",
   "execution_count": 18,
   "id": "7da690a2",
   "metadata": {},
   "outputs": [],
   "source": [
    "# Now we are reading as Spark DataFrame but with the schema created.\n",
    "df = spark.read \\\n",
    "    .option(\"header\", \"true\") \\\n",
    "    .schema(schema) \\\n",
    "    .csv('fhvhv_tripdata_2021-01.csv')"
   ]
  },
  {
   "cell_type": "code",
   "execution_count": 20,
   "id": "086e5408",
   "metadata": {},
   "outputs": [
    {
     "data": {
      "text/plain": [
       "[Row(hvfhs_license_num='HV0003', dispatching_base_num='B02682', pickup_datetime=datetime.datetime(2021, 1, 1, 0, 33, 44), dropoff_datetime=datetime.datetime(2021, 1, 1, 0, 49, 7), PULocationID=230, DOLocationID=166, SR_Flag=None),\n",
       " Row(hvfhs_license_num='HV0003', dispatching_base_num='B02682', pickup_datetime=datetime.datetime(2021, 1, 1, 0, 55, 19), dropoff_datetime=datetime.datetime(2021, 1, 1, 1, 18, 21), PULocationID=152, DOLocationID=167, SR_Flag=None),\n",
       " Row(hvfhs_license_num='HV0003', dispatching_base_num='B02764', pickup_datetime=datetime.datetime(2021, 1, 1, 0, 23, 56), dropoff_datetime=datetime.datetime(2021, 1, 1, 0, 38, 5), PULocationID=233, DOLocationID=142, SR_Flag=None),\n",
       " Row(hvfhs_license_num='HV0003', dispatching_base_num='B02764', pickup_datetime=datetime.datetime(2021, 1, 1, 0, 42, 51), dropoff_datetime=datetime.datetime(2021, 1, 1, 0, 45, 50), PULocationID=142, DOLocationID=143, SR_Flag=None),\n",
       " Row(hvfhs_license_num='HV0003', dispatching_base_num='B02764', pickup_datetime=datetime.datetime(2021, 1, 1, 0, 48, 14), dropoff_datetime=datetime.datetime(2021, 1, 1, 1, 8, 42), PULocationID=143, DOLocationID=78, SR_Flag=None)]"
      ]
     },
     "execution_count": 20,
     "metadata": {},
     "output_type": "execute_result"
    }
   ],
   "source": [
    "df.head(5)"
   ]
  },
  {
   "cell_type": "code",
   "execution_count": 24,
   "id": "e3f2f0c8",
   "metadata": {},
   "outputs": [],
   "source": [
    "df = df.repartition(24)"
   ]
  },
  {
   "cell_type": "code",
   "execution_count": 25,
   "id": "3c262bd3",
   "metadata": {},
   "outputs": [
    {
     "name": "stderr",
     "output_type": "stream",
     "text": [
      "                                                                                \r"
     ]
    }
   ],
   "source": [
    "df.write.parquet('fhvhv/2021/01/')"
   ]
  },
  {
   "cell_type": "markdown",
   "id": "b45e7160",
   "metadata": {},
   "source": [
    "# 2. <a name=\"spark-dataframes\"></a> Spark DataFrames"
   ]
  },
  {
   "cell_type": "code",
   "execution_count": 35,
   "id": "f481776f",
   "metadata": {},
   "outputs": [],
   "source": [
    "df = spark.read.parquet('fhvhv/2021/01/')"
   ]
  },
  {
   "cell_type": "code",
   "execution_count": 36,
   "id": "c6e5000c",
   "metadata": {},
   "outputs": [
    {
     "name": "stdout",
     "output_type": "stream",
     "text": [
      "root\n",
      " |-- hvfhs_license_num: string (nullable = true)\n",
      " |-- dispatching_base_num: string (nullable = true)\n",
      " |-- pickup_datetime: timestamp (nullable = true)\n",
      " |-- dropoff_datetime: timestamp (nullable = true)\n",
      " |-- PULocationID: integer (nullable = true)\n",
      " |-- DOLocationID: integer (nullable = true)\n",
      " |-- SR_Flag: string (nullable = true)\n",
      "\n"
     ]
    }
   ],
   "source": [
    "df.printSchema()"
   ]
  },
  {
   "cell_type": "markdown",
   "id": "3dbcee73",
   "metadata": {},
   "source": [
    "### Actions vs Transformations\n",
    "\n",
    "In Spark there is a distinction things that are executed immediately and things that are not (lazy evaluation)\n",
    "The former are called `Actions` and the later `Transformations`\n",
    "\n",
    "#### Transformations\n",
    "Transformations are **lazy** (not executed immediatelly)\n",
    "\n",
    "- Selecting columns\n",
    "- Filtering\n",
    "- Applying a function to a column\n",
    "\n",
    "\n",
    "#### Actions\n",
    "Actions are **eager** (executed right away)\n",
    "\n",
    "- show(), head()\n",
    "- write\n",
    "- read"
   ]
  },
  {
   "cell_type": "code",
   "execution_count": 44,
   "id": "e22f3e93",
   "metadata": {},
   "outputs": [
    {
     "name": "stdout",
     "output_type": "stream",
     "text": [
      "+-----------------+-------------------+-------------------+------------+------------+\n",
      "|hvfhs_license_num|    pickup_datetime|   dropoff_datetime|PULocationID|DOLocationID|\n",
      "+-----------------+-------------------+-------------------+------------+------------+\n",
      "|           HV0005|2021-01-03 17:17:21|2021-01-03 17:26:18|         255|          34|\n",
      "|           HV0005|2021-01-04 05:25:51|2021-01-04 05:45:19|         225|         233|\n",
      "|           HV0005|2021-01-05 07:07:33|2021-01-05 07:16:16|         231|          87|\n",
      "|           HV0005|2021-01-06 11:21:01|2021-01-06 11:31:58|          22|          26|\n",
      "|           HV0005|2021-01-02 18:07:12|2021-01-02 18:13:56|           9|          73|\n",
      "|           HV0005|2021-01-04 08:30:25|2021-01-04 08:40:38|         140|         263|\n",
      "|           HV0005|2021-01-05 18:33:50|2021-01-05 18:41:01|          62|          61|\n",
      "|           HV0005|2021-01-03 14:47:06|2021-01-03 14:57:21|         232|         107|\n",
      "|           HV0005|2021-01-06 06:01:40|2021-01-06 06:11:23|         259|         265|\n",
      "|           HV0005|2021-01-01 15:31:14|2021-01-01 15:40:24|         188|          85|\n",
      "|           HV0005|2021-01-04 02:13:52|2021-01-04 02:32:42|         165|          76|\n",
      "|           HV0005|2021-01-01 19:08:00|2021-01-01 19:25:00|          74|          78|\n",
      "|           HV0005|2021-01-04 10:32:16|2021-01-04 10:53:10|         213|         169|\n",
      "|           HV0005|2021-01-06 18:49:34|2021-01-06 19:37:23|          37|         135|\n",
      "|           HV0005|2021-01-04 12:55:29|2021-01-04 13:14:56|         169|         174|\n",
      "|           HV0005|2021-01-06 21:07:55|2021-01-06 21:12:50|          18|          32|\n",
      "|           HV0005|2021-01-01 05:57:15|2021-01-01 06:03:28|          47|          47|\n",
      "|           HV0005|2021-01-06 08:23:10|2021-01-06 08:31:06|         181|          25|\n",
      "|           HV0005|2021-01-04 18:17:57|2021-01-04 18:25:58|         113|          68|\n",
      "|           HV0005|2021-01-02 20:02:54|2021-01-02 20:26:19|         171|         145|\n",
      "+-----------------+-------------------+-------------------+------------+------------+\n",
      "only showing top 20 rows\n",
      "\n"
     ]
    }
   ],
   "source": [
    "df.select('hvfhs_license_num', 'pickup_datetime', 'dropoff_datetime', 'PULocationID', 'DOLocationID') \\\n",
    "  .filter(df.hvfhs_license_num == 'HV0005') \\\n",
    "  .show()"
   ]
  },
  {
   "cell_type": "code",
   "execution_count": 45,
   "id": "566081fd",
   "metadata": {},
   "outputs": [],
   "source": [
    "from pyspark.sql import functions as F"
   ]
  },
  {
   "cell_type": "code",
   "execution_count": 46,
   "id": "fec0f5bc",
   "metadata": {},
   "outputs": [],
   "source": [
    "# We define a dummy (and useless) function to demonstrate UDFs in Spark\n",
    "def crazy_stuff(base_num):\n",
    "    num = int(base_num[1:])\n",
    "    if num % 7 == 0:\n",
    "        return f's/{num:03x}'\n",
    "    elif num % 3 == 0:\n",
    "        return f'a/{num:03x}'\n",
    "    else:\n",
    "        return f'e/{num:03x}'"
   ]
  },
  {
   "cell_type": "code",
   "execution_count": 47,
   "id": "719aafe9",
   "metadata": {},
   "outputs": [
    {
     "data": {
      "text/plain": [
       "'s/b44'"
      ]
     },
     "execution_count": 47,
     "metadata": {},
     "output_type": "execute_result"
    }
   ],
   "source": [
    "crazy_stuff('B02884')"
   ]
  },
  {
   "cell_type": "code",
   "execution_count": 48,
   "id": "11e565d4",
   "metadata": {},
   "outputs": [],
   "source": [
    "# Make the python function defined above, a Spark UDFs function.\n",
    "crazy_stuff_udf = F.udf(crazy_stuff, returnType=types.StringType())"
   ]
  },
  {
   "cell_type": "code",
   "execution_count": 49,
   "id": "81586316",
   "metadata": {},
   "outputs": [
    {
     "name": "stderr",
     "output_type": "stream",
     "text": [
      "\r",
      "[Stage 17:>                                                         (0 + 1) / 1]\r"
     ]
    },
    {
     "name": "stdout",
     "output_type": "stream",
     "text": [
      "+-------+-----------+------------+------------+------------+\n",
      "|base_id|pickup_date|dropoff_date|PULocationID|DOLocationID|\n",
      "+-------+-----------+------------+------------+------------+\n",
      "|  e/9ce| 2021-01-03|  2021-01-03|         255|          34|\n",
      "|  e/b42| 2021-01-05|  2021-01-05|         189|         107|\n",
      "|  e/b33| 2021-01-02|  2021-01-02|          88|         137|\n",
      "|  e/b38| 2021-01-02|  2021-01-03|         238|         224|\n",
      "|  e/b3b| 2021-01-06|  2021-01-06|         169|         208|\n",
      "|  e/b33| 2021-01-07|  2021-01-07|          75|          88|\n",
      "|  e/acc| 2021-01-07|  2021-01-07|         210|         210|\n",
      "|  e/acc| 2021-01-02|  2021-01-02|         243|          69|\n",
      "|  e/b35| 2021-01-04|  2021-01-04|         250|         213|\n",
      "|  s/b3d| 2021-01-03|  2021-01-03|          87|          79|\n",
      "|  e/a39| 2021-01-03|  2021-01-03|          68|         181|\n",
      "|  s/acd| 2021-01-04|  2021-01-04|          95|         236|\n",
      "|  s/b13| 2021-01-02|  2021-01-02|         262|         236|\n",
      "|  e/9ce| 2021-01-04|  2021-01-04|         225|         233|\n",
      "|  e/b14| 2021-01-06|  2021-01-06|         237|          83|\n",
      "|  e/9ce| 2021-01-05|  2021-01-05|         231|          87|\n",
      "|  e/9ce| 2021-01-06|  2021-01-06|          22|          26|\n",
      "|  a/a7a| 2021-01-04|  2021-01-04|         159|          75|\n",
      "|  e/b35| 2021-01-06|  2021-01-06|         109|         119|\n",
      "|  a/b43| 2021-01-06|  2021-01-06|         145|         229|\n",
      "+-------+-----------+------------+------------+------------+\n",
      "only showing top 20 rows\n",
      "\n"
     ]
    },
    {
     "name": "stderr",
     "output_type": "stream",
     "text": [
      "\r",
      "                                                                                \r"
     ]
    }
   ],
   "source": [
    "df \\\n",
    "    .withColumn('pickup_date', F.to_date(df.pickup_datetime)) \\\n",
    "    .withColumn('dropoff_date', F.to_date(df.dropoff_datetime)) \\\n",
    "    .withColumn('base_id', crazy_stuff_udf(df.dispatching_base_num)) \\\n",
    "    .select('base_id', 'pickup_date', 'dropoff_date', 'PULocationID', 'DOLocationID') \\\n",
    "    .show()"
   ]
  }
 ],
 "metadata": {
  "kernelspec": {
   "display_name": "Python 3 (ipykernel)",
   "language": "python",
   "name": "python3"
  },
  "language_info": {
   "codemirror_mode": {
    "name": "ipython",
    "version": 3
   },
   "file_extension": ".py",
   "mimetype": "text/x-python",
   "name": "python",
   "nbconvert_exporter": "python",
   "pygments_lexer": "ipython3",
   "version": "3.11.5"
  }
 },
 "nbformat": 4,
 "nbformat_minor": 5
}
